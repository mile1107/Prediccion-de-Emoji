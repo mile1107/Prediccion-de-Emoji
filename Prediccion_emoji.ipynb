{
 "cells": [
  {
   "cell_type": "markdown",
   "metadata": {},
   "source": [
    "# PREDICCIÓN DE EMOJI"
   ]
  },
  {
   "cell_type": "markdown",
   "metadata": {},
   "source": [
    "## 1. Librerías a usar"
   ]
  },
  {
   "cell_type": "code",
   "execution_count": 25,
   "metadata": {
    "scrolled": true
   },
   "outputs": [],
   "source": [
    "import pandas as pd\n",
    "import numpy as np\n",
    "import emoji\n",
    "from keras.models import Model\n",
    "from keras.layers import Dense, Input, Dropout, LSTM, Activation\n",
    "from keras.layers.embeddings import Embedding\n",
    "from tabulate import tabulate\n",
    "import matplotlib.pyplot as plt"
   ]
  },
  {
   "cell_type": "markdown",
   "metadata": {},
   "source": [
    "## 2. Carga y lectura de datos"
   ]
  },
  {
   "cell_type": "markdown",
   "metadata": {},
   "source": []
  },
  {
   "cell_type": "code",
   "execution_count": 26,
   "metadata": {},
   "outputs": [],
   "source": [
    "# Cargar los datos de entrenamiento y de datos de los archivos csv\n",
    "names_cols_train = [\"Text\", \"Label\", \"C3\", \"C4\"]\n",
    "names_cols_test = [\"Text\", \"Label\"]\n",
    "# Leer los datos de entrenamiento \n",
    "train = pd.read_csv(\"DATOS_PROYECTO_4/train_emoji.csv\", header=None, names = names_cols_train)\n",
    "test = pd.read_csv(\"DATOS_PROYECTO_4/test_emoji.csv\", header=None, names = names_cols_test)"
   ]
  },
  {
   "cell_type": "code",
   "execution_count": 27,
   "metadata": {},
   "outputs": [
    {
     "data": {
      "text/html": [
       "<div>\n",
       "<style scoped>\n",
       "    .dataframe tbody tr th:only-of-type {\n",
       "        vertical-align: middle;\n",
       "    }\n",
       "\n",
       "    .dataframe tbody tr th {\n",
       "        vertical-align: top;\n",
       "    }\n",
       "\n",
       "    .dataframe thead th {\n",
       "        text-align: right;\n",
       "    }\n",
       "</style>\n",
       "<table border=\"1\" class=\"dataframe\">\n",
       "  <thead>\n",
       "    <tr style=\"text-align: right;\">\n",
       "      <th></th>\n",
       "      <th>Text</th>\n",
       "      <th>Label</th>\n",
       "      <th>C3</th>\n",
       "      <th>C4</th>\n",
       "    </tr>\n",
       "  </thead>\n",
       "  <tbody>\n",
       "    <tr>\n",
       "      <th>0</th>\n",
       "      <td>never talk to me again</td>\n",
       "      <td>3</td>\n",
       "      <td>NaN</td>\n",
       "      <td>NaN</td>\n",
       "    </tr>\n",
       "    <tr>\n",
       "      <th>1</th>\n",
       "      <td>I am proud of your achievements</td>\n",
       "      <td>2</td>\n",
       "      <td>NaN</td>\n",
       "      <td>NaN</td>\n",
       "    </tr>\n",
       "    <tr>\n",
       "      <th>2</th>\n",
       "      <td>It is the worst day in my life</td>\n",
       "      <td>3</td>\n",
       "      <td>NaN</td>\n",
       "      <td>NaN</td>\n",
       "    </tr>\n",
       "    <tr>\n",
       "      <th>3</th>\n",
       "      <td>Miss you so much</td>\n",
       "      <td>0</td>\n",
       "      <td>NaN</td>\n",
       "      <td>[0]</td>\n",
       "    </tr>\n",
       "    <tr>\n",
       "      <th>4</th>\n",
       "      <td>food is life</td>\n",
       "      <td>4</td>\n",
       "      <td>NaN</td>\n",
       "      <td>NaN</td>\n",
       "    </tr>\n",
       "  </tbody>\n",
       "</table>\n",
       "</div>"
      ],
      "text/plain": [
       "                              Text  Label  C3    C4\n",
       "0           never talk to me again      3 NaN   NaN\n",
       "1  I am proud of your achievements      2 NaN   NaN\n",
       "2   It is the worst day in my life      3 NaN   NaN\n",
       "3                 Miss you so much      0 NaN   [0]\n",
       "4                     food is life      4 NaN   NaN"
      ]
     },
     "execution_count": 27,
     "metadata": {},
     "output_type": "execute_result"
    }
   ],
   "source": [
    "# Mostrar los 5 primeros datos de entrenamiento\n",
    "train.head()"
   ]
  },
  {
   "cell_type": "code",
   "execution_count": 28,
   "metadata": {},
   "outputs": [
    {
     "data": {
      "text/html": [
       "<div>\n",
       "<style scoped>\n",
       "    .dataframe tbody tr th:only-of-type {\n",
       "        vertical-align: middle;\n",
       "    }\n",
       "\n",
       "    .dataframe tbody tr th {\n",
       "        vertical-align: top;\n",
       "    }\n",
       "\n",
       "    .dataframe thead th {\n",
       "        text-align: right;\n",
       "    }\n",
       "</style>\n",
       "<table border=\"1\" class=\"dataframe\">\n",
       "  <thead>\n",
       "    <tr style=\"text-align: right;\">\n",
       "      <th></th>\n",
       "      <th>Text</th>\n",
       "      <th>Label</th>\n",
       "    </tr>\n",
       "  </thead>\n",
       "  <tbody>\n",
       "    <tr>\n",
       "      <th>0</th>\n",
       "      <td>I want to eat\\t</td>\n",
       "      <td>4</td>\n",
       "    </tr>\n",
       "    <tr>\n",
       "      <th>1</th>\n",
       "      <td>he did not answer\\t</td>\n",
       "      <td>3</td>\n",
       "    </tr>\n",
       "    <tr>\n",
       "      <th>2</th>\n",
       "      <td>he got a raise\\t</td>\n",
       "      <td>2</td>\n",
       "    </tr>\n",
       "    <tr>\n",
       "      <th>3</th>\n",
       "      <td>she got me a present\\t</td>\n",
       "      <td>0</td>\n",
       "    </tr>\n",
       "    <tr>\n",
       "      <th>4</th>\n",
       "      <td>ha ha ha it was so funny\\t</td>\n",
       "      <td>2</td>\n",
       "    </tr>\n",
       "  </tbody>\n",
       "</table>\n",
       "</div>"
      ],
      "text/plain": [
       "                         Text  Label\n",
       "0             I want to eat\\t      4\n",
       "1         he did not answer\\t      3\n",
       "2            he got a raise\\t      2\n",
       "3      she got me a present\\t      0\n",
       "4  ha ha ha it was so funny\\t      2"
      ]
     },
     "execution_count": 28,
     "metadata": {},
     "output_type": "execute_result"
    }
   ],
   "source": [
    "# Mostrar los 5 primeros datos de entrenamiento\n",
    "test.head()"
   ]
  },
  {
   "cell_type": "markdown",
   "metadata": {},
   "source": [
    "## 3. De etiquetas a Emojis\n",
    "<p>El texto está etiquetado con números enteros que van del 0 al 4. Cada número entero corresponde a un emoji específico.</p>"
   ]
  },
  {
   "cell_type": "code",
   "execution_count": 29,
   "metadata": {},
   "outputs": [
    {
     "name": "stdout",
     "output_type": "stream",
     "text": [
      "Label 0  : ❤️\n",
      "Label 1  : ⚾\n",
      "Label 2  : 😄\n",
      "Label 3  : 😞\n",
      "Label 4  : 🍴\n"
     ]
    }
   ],
   "source": [
    "# Creamos el diccionario para los emojis\n",
    "diccionnario_emoji = {\"0\": \":heart:\",\n",
    "                    \"1\": \":baseball:\",\n",
    "                    \"2\": \":smile:\",\n",
    "                    \"3\": \":disappointed:\",\n",
    "                    \"4\": \":fork_and_knife:\"}\n",
    "\n",
    "# Función para convertir un números entero en emoji imprimible\n",
    "def label_a_emoji(label):\n",
    "    return emoji.emojize(diccionnario_emoji[str(label)], use_aliases=True)\n",
    "\n",
    "# Mostrar las etiquetas y sus respectivos emojis\n",
    "for i in range(5):\n",
    "    print(\"Label\", i, \" :\", label_a_emoji(i))"
   ]
  },
  {
   "cell_type": "code",
   "execution_count": 30,
   "metadata": {},
   "outputs": [
    {
     "name": "stdout",
     "output_type": "stream",
     "text": [
      "never talk to me again  : 😞\n",
      "I am proud of your achievements  : 😄\n",
      "It is the worst day in my life  : 😞\n",
      "Miss you so much  : ❤️\n",
      "food is life  : 🍴\n"
     ]
    }
   ],
   "source": [
    "# Mostrar los 5 primeros textos y sus respectivos emojis\n",
    "data = train.values\n",
    "for i in range(5):\n",
    "    print(data[i][0], \" :\", label_a_emoji(data[i][1]))"
   ]
  },
  {
   "cell_type": "markdown",
   "metadata": {},
   "source": [
    "## 4. Obtenemos los datos de entrenamiento y de test"
   ]
  },
  {
   "cell_type": "code",
   "execution_count": 31,
   "metadata": {},
   "outputs": [],
   "source": [
    "# Datos de entrenamiento\n",
    "X_train = train[\"Text\"]\n",
    "\n",
    "# Datos de prueba\n",
    "X_test = test[\"Text\"]"
   ]
  },
  {
   "cell_type": "code",
   "execution_count": 32,
   "metadata": {},
   "outputs": [
    {
     "name": "stdout",
     "output_type": "stream",
     "text": [
      "La máxima cantidad de palabras de un texto del dataset es: 10\n"
     ]
    }
   ],
   "source": [
    "# Muestra la máxima cantidad de palabras de un texto del dataset\n",
    "maxLen = len(max(X_train, key=len).split())\n",
    "print('La máxima cantidad de palabras de un texto del dataset es:',maxLen)"
   ]
  },
  {
   "cell_type": "markdown",
   "metadata": {},
   "source": [
    "Convertir los labels vectores one-hot"
   ]
  },
  {
   "cell_type": "code",
   "execution_count": 33,
   "metadata": {},
   "outputs": [],
   "source": [
    "# Se realiza la conversión  de los labels o etiquetas de los datos de entrenamiento y de prueba a vectores One hot\n",
    "Y_train = pd.get_dummies(train[\"Label\"])\n",
    "Y_test = pd.get_dummies(test[\"Label\"])"
   ]
  },
  {
   "cell_type": "code",
   "execution_count": 34,
   "metadata": {},
   "outputs": [
    {
     "name": "stdout",
     "output_type": "stream",
     "text": [
      "Tamaño de los datos de entrenamiento: (132,) (132, 5)\n",
      "Tamaño de los datos de test: (56,) (56, 5)\n"
     ]
    }
   ],
   "source": [
    "# Muestra el tamaño del dataset procesado\n",
    "print(\"Tamaño de los datos de entrenamiento:\", X_train.shape, Y_train.shape)\n",
    "print (\"Tamaño de los datos de test:\", X_test.shape, Y_test.shape)"
   ]
  },
  {
   "cell_type": "markdown",
   "metadata": {},
   "source": [
    "## 5. Cargar los vectores Glove "
   ]
  },
  {
   "cell_type": "markdown",
   "metadata": {},
   "source": [
    "Usaremos representaciones de vectores de palabras en las palabras en la oración, y usaremos los vectores Glove para esta representación. Basado en algunas iteraciones, los vectores 50d parecen funcionar mejor para este caso.\n"
   ]
  },
  {
   "cell_type": "code",
   "execution_count": 35,
   "metadata": {},
   "outputs": [],
   "source": [
    "# FUNCIÓN: read_glove_vecs\n",
    "def read_glove_vecs(glove_file):\n",
    "    with open(glove_file,encoding='utf-8') as f:\n",
    "        words = set()         # asegura valores únicos\n",
    "        word_to_vec_map = {}  # creamos un diccionario para mapear las palabras\n",
    "        for line in f:          \n",
    "            # Elimina el primer y último espacio, y cada línea se divide por \n",
    "            # espacios. Devuelve una lista. El primer elemento es una palabra \n",
    "            # y el resto son representaciones de palabras incrustadas\n",
    "            line = line.strip().split()  \n",
    "            curr_word = line[0]        #  saca la palabra\n",
    "            words.add(curr_word)       # add a la colección / diccionario\n",
    "            word_to_vec_map[curr_word] = np.array(line[1:], dtype='float32')\n",
    "        \n",
    "        i = 1\n",
    "        words_to_index = {}   # diccionario donde  mapeamos las palabras con el indice\n",
    "        index_to_words = {}   # diccionario donde mapeamos el indice con la palabra\n",
    "        for w in sorted(words):\n",
    "            words_to_index[w] = i\n",
    "            index_to_words[i] = w\n",
    "            i = i + 1\n",
    "    return words_to_index, index_to_words, word_to_vec_map\n",
    "\n",
    "word_to_index, index_to_word, word_to_vec_map = read_glove_vecs('Glove_Embeddings/glove.6B.50d.txt')"
   ]
  },
  {
   "cell_type": "markdown",
   "metadata": {},
   "source": [
    "Usaremos Keras para la implementación del LSTM. Por lo tanto, necesitamos crear una 'capa embedding'."
   ]
  },
  {
   "cell_type": "code",
   "execution_count": 36,
   "metadata": {},
   "outputs": [],
   "source": [
    "# FUNCIÓN: capa_embedding_preentrenada\n",
    "def capa_embedding_preentrenada(word_to_vec_map, word_to_index):\n",
    "    \"\"\"\n",
    "    Crea una capa Keras Embedding() y la carga en vectores GloVe de 50 dimensiones previamente entrenados.\n",
    "     Argumentos:\n",
    "     word_to_vec_map -- mapeo de diccionario de palabras a su representación vectorial GloVe.\n",
    "     word_to_index -- mapeo de diccionario de palabras a sus índices en el vocabulario\n",
    "\n",
    "     Devoluciones:\n",
    "     embedding_layer -- capa pre-entrenada Keras\n",
    "    \"\"\"\n",
    "    vocab_len = len(word_to_index) + 1 # agrega 1 para encajar en la incrustación (embedding) de Keras       \n",
    "    emb_dim = word_to_vec_map[\"cucumber\"].shape[0] # # define la dimensionalidad de los vectores de palabras GloVe (= 50)\n",
    "    \n",
    "    # Inicializa la matriz embedding como una matriz numpy de ceros de forma \n",
    "    # (vocab_len, dimensiones de los vectores de palabras = emb_dim)\n",
    "    emb_matrix = np.zeros((vocab_len, emb_dim))\n",
    "\n",
    "    # Establece cada fila \"índice\" de la matriz embedding para que \n",
    "    # sea la representación vectorial de palabras de la palabra \"índice\" del vocabulario\n",
    "    for word, index in word_to_index.items():\n",
    "        emb_matrix[index, :] = word_to_vec_map[word]\n",
    "\n",
    "    # Define la capa de incrustación de Keras con los tamaños correctos de salida/entrada, trainable=False.\n",
    "    embedding_layer = Embedding(vocab_len, emb_dim, trainable=False)\n",
    "    \n",
    "    # Construye la capa de incrustación, se requiere antes de configurar los pesos de la capa de incrustación.\n",
    "    embedding_layer.build((None,))\n",
    "\n",
    "    # Establezca los pesos de la capa embedding en la matriz embedding. La capa ahora está preentrenada.\n",
    "    embedding_layer.set_weights([emb_matrix])\n",
    "    \n",
    "    return embedding_layer"
   ]
  },
  {
   "cell_type": "markdown",
   "metadata": {},
   "source": [
    "Cambiamos las sentencias a índices"
   ]
  },
  {
   "cell_type": "code",
   "execution_count": 37,
   "metadata": {},
   "outputs": [],
   "source": [
    "# FUNCIÓN: sentencias_a_indices\n",
    "def sentencias_a_indices(X, word_to_index, max_len):\n",
    "    \"\"\"\n",
    "     Convierte una matriz de oraciones (cadenas) en una matriz de índices correspondientes a las palabras de las oraciones.\n",
    "     La forma de salida debe ser tal que se pueda asignar a `Embedding()`.\n",
    "     Argumentos:\n",
    "     X -- conjunto de oraciones (cadenas), de forma (m, 1)\n",
    "     word_to_index: un diccionario que contiene cada palabra asignada a su índice\n",
    "     max_len -- número máximo de palabras en una oración. Puede asumir que cada oración en X no es más larga que esto.\n",
    "\n",
    "     Devoluciones:\n",
    "     X_indices: conjunto de índices correspondientes a las palabras en las oraciones de X, de forma (m, max_len)\n",
    "     \"\"\"\n",
    "    m = X.shape[0] # cantidad de ejemplos de entrenamiento                               \n",
    "    X_indices = np.zeros((m, max_len)) # Inicializa la matriz con ceros\n",
    "    for i in range(m): # bucle de ejemplos de entrenamiento\n",
    "        # Convierta la i-ésima oración de entrenamiento en minúsculas y divídala en palabras.\n",
    "        sentence_words = (X[i].lower()).split()\n",
    "        # Inicializa j a 0\n",
    "        j = 0\n",
    "        # Bucle de las palabras de sentencia_words\n",
    "        for w in sentence_words:\n",
    "            # Establecer la (i, j) ésima entrada de X_indices en el índice de la palabra correcta.\n",
    "            X_indices[i, j] = word_to_index[w]\n",
    "            j = j + 1\n",
    "            \n",
    "    return X_indices\n",
    "\n",
    "X_train_indices = sentencias_a_indices(X_train, word_to_index, maxLen)\n",
    "X_test_indices = sentencias_a_indices(X_test, word_to_index, maxLen)"
   ]
  },
  {
   "cell_type": "markdown",
   "metadata": {},
   "source": [
    "## 6. Creamos el modelo de red neuronal"
   ]
  },
  {
   "cell_type": "code",
   "execution_count": 38,
   "metadata": {},
   "outputs": [],
   "source": [
    "# Defina sentence_indices como la entrada del gráfico, debe tener la forma input_shape y el tipo 'int32' (ya que contiene índices).\n",
    "sentence_indices = Input((maxLen,), dtype = 'int32')\n",
    "# Cree la capa embedding preentrenada con GloVe Vectors\n",
    "embedding_layer = capa_embedding_preentrenada(word_to_vec_map, word_to_index)\n",
    "# Propagar sentence_indices a través de la capa embedding\n",
    "embeddings = embedding_layer(sentence_indices)  \n",
    "# Propagar los embeddings a través de una capa LSTM con un estado oculto de 128 dimensiones\n",
    "X = LSTM(128, return_sequences=True)(embeddings)\n",
    "# Agregar una capa dropout con una probabilidad de 0.5\n",
    "X = Dropout(0.5)(X)\n",
    "# Propagar X a través de otra capa LSTM con estado oculto de 128 dimensiones\n",
    "X = LSTM(128, return_sequences=False)(X)\n",
    "# Agregar una capa dropout con una probabilidad de 0.5\n",
    "X = Dropout(0.5)(X)\n",
    "# Propagar X a través de una capa densa para recuperar un lote de vectores de 5 dimensiones.\n",
    "X = Dense(5)(X)\n",
    "# Agregar una capa de activación de softmax\n",
    "X = Activation('softmax')(X)\n",
    "# Crear una instancia de Modelo que convierte los entence_indices en X.\n",
    "model = Model(sentence_indices, X)\n"
   ]
  },
  {
   "cell_type": "code",
   "execution_count": 39,
   "metadata": {},
   "outputs": [
    {
     "name": "stdout",
     "output_type": "stream",
     "text": [
      "Model: \"model_1\"\n",
      "_________________________________________________________________\n",
      "Layer (type)                 Output Shape              Param #   \n",
      "=================================================================\n",
      "input_2 (InputLayer)         [(None, 10)]              0         \n",
      "_________________________________________________________________\n",
      "embedding_1 (Embedding)      (None, 10, 50)            20000050  \n",
      "_________________________________________________________________\n",
      "lstm_2 (LSTM)                (None, 10, 128)           91648     \n",
      "_________________________________________________________________\n",
      "dropout_2 (Dropout)          (None, 10, 128)           0         \n",
      "_________________________________________________________________\n",
      "lstm_3 (LSTM)                (None, 128)               131584    \n",
      "_________________________________________________________________\n",
      "dropout_3 (Dropout)          (None, 128)               0         \n",
      "_________________________________________________________________\n",
      "dense_1 (Dense)              (None, 5)                 645       \n",
      "_________________________________________________________________\n",
      "activation_1 (Activation)    (None, 5)                 0         \n",
      "=================================================================\n",
      "Total params: 20,223,927\n",
      "Trainable params: 223,877\n",
      "Non-trainable params: 20,000,050\n",
      "_________________________________________________________________\n"
     ]
    }
   ],
   "source": [
    "model.summary()"
   ]
  },
  {
   "cell_type": "markdown",
   "metadata": {},
   "source": [
    "## 7. Compilación y entrenamiento del modelo"
   ]
  },
  {
   "cell_type": "code",
   "execution_count": 40,
   "metadata": {},
   "outputs": [],
   "source": [
    "import tensorflow as tf\n",
    "# Utilizamos el optimizador Adam\n",
    "optimizador = tf.keras.optimizers.Adam(0.001)\n",
    "# Compilamos el modelo\n",
    "model.compile(optimizer=optimizador, loss='categorical_crossentropy', metrics=['accuracy'])"
   ]
  },
  {
   "cell_type": "code",
   "execution_count": 41,
   "metadata": {},
   "outputs": [
    {
     "name": "stdout",
     "output_type": "stream",
     "text": [
      "Epoch 1/40\n",
      "9/9 [==============================] - 9s 147ms/step - loss: 1.5866 - accuracy: 0.2500 - val_loss: 1.5238 - val_accuracy: 0.3036\n",
      "Epoch 2/40\n",
      "9/9 [==============================] - 0s 17ms/step - loss: 1.5001 - accuracy: 0.3182 - val_loss: 1.4692 - val_accuracy: 0.3571\n",
      "Epoch 3/40\n",
      "9/9 [==============================] - 0s 14ms/step - loss: 1.3628 - accuracy: 0.5303 - val_loss: 1.3590 - val_accuracy: 0.4286\n",
      "Epoch 4/40\n",
      "9/9 [==============================] - 0s 13ms/step - loss: 1.1858 - accuracy: 0.6212 - val_loss: 1.2744 - val_accuracy: 0.4821\n",
      "Epoch 5/40\n",
      "9/9 [==============================] - 0s 14ms/step - loss: 0.9613 - accuracy: 0.6515 - val_loss: 1.1478 - val_accuracy: 0.5714\n",
      "Epoch 6/40\n",
      "9/9 [==============================] - 0s 17ms/step - loss: 0.7803 - accuracy: 0.7197 - val_loss: 1.3150 - val_accuracy: 0.4821\n",
      "Epoch 7/40\n",
      "9/9 [==============================] - 0s 33ms/step - loss: 0.6933 - accuracy: 0.6894 - val_loss: 1.1261 - val_accuracy: 0.5357\n",
      "Epoch 8/40\n",
      "9/9 [==============================] - 0s 19ms/step - loss: 0.6119 - accuracy: 0.7879 - val_loss: 1.0367 - val_accuracy: 0.6071\n",
      "Epoch 9/40\n",
      "9/9 [==============================] - 0s 13ms/step - loss: 0.5142 - accuracy: 0.8485 - val_loss: 0.9596 - val_accuracy: 0.6429\n",
      "Epoch 10/40\n",
      "9/9 [==============================] - 0s 13ms/step - loss: 0.4706 - accuracy: 0.8333 - val_loss: 0.9929 - val_accuracy: 0.5536\n",
      "Epoch 11/40\n",
      "9/9 [==============================] - 0s 12ms/step - loss: 0.4062 - accuracy: 0.8712 - val_loss: 0.9281 - val_accuracy: 0.5893\n",
      "Epoch 12/40\n",
      "9/9 [==============================] - 0s 10ms/step - loss: 0.2745 - accuracy: 0.9394 - val_loss: 0.9305 - val_accuracy: 0.6607\n",
      "Epoch 13/40\n",
      "9/9 [==============================] - 0s 12ms/step - loss: 0.2766 - accuracy: 0.9091 - val_loss: 0.9591 - val_accuracy: 0.6607\n",
      "Epoch 14/40\n",
      "9/9 [==============================] - 0s 10ms/step - loss: 0.3250 - accuracy: 0.8712 - val_loss: 1.0976 - val_accuracy: 0.6071\n",
      "Epoch 15/40\n",
      "9/9 [==============================] - 0s 11ms/step - loss: 0.3243 - accuracy: 0.9015 - val_loss: 1.1609 - val_accuracy: 0.5714\n",
      "Epoch 16/40\n",
      "9/9 [==============================] - 0s 12ms/step - loss: 0.2415 - accuracy: 0.9091 - val_loss: 1.1617 - val_accuracy: 0.6429\n",
      "Epoch 17/40\n",
      "9/9 [==============================] - 0s 12ms/step - loss: 0.2011 - accuracy: 0.9318 - val_loss: 1.1392 - val_accuracy: 0.6429\n",
      "Epoch 18/40\n",
      "9/9 [==============================] - 0s 13ms/step - loss: 0.2227 - accuracy: 0.9394 - val_loss: 1.2588 - val_accuracy: 0.6607\n",
      "Epoch 19/40\n",
      "9/9 [==============================] - 0s 13ms/step - loss: 0.1905 - accuracy: 0.9470 - val_loss: 1.1158 - val_accuracy: 0.6607\n",
      "Epoch 20/40\n",
      "9/9 [==============================] - 0s 11ms/step - loss: 0.2076 - accuracy: 0.9318 - val_loss: 1.2738 - val_accuracy: 0.6786\n",
      "Epoch 21/40\n",
      "9/9 [==============================] - 0s 10ms/step - loss: 0.0900 - accuracy: 0.9697 - val_loss: 1.1012 - val_accuracy: 0.7143\n",
      "Epoch 22/40\n",
      "9/9 [==============================] - 0s 11ms/step - loss: 0.0636 - accuracy: 0.9924 - val_loss: 1.3051 - val_accuracy: 0.6429\n",
      "Epoch 23/40\n",
      "9/9 [==============================] - 0s 10ms/step - loss: 0.0822 - accuracy: 0.9697 - val_loss: 1.7773 - val_accuracy: 0.6071\n",
      "Epoch 24/40\n",
      "9/9 [==============================] - 0s 10ms/step - loss: 0.1353 - accuracy: 0.9545 - val_loss: 1.2312 - val_accuracy: 0.6786\n",
      "Epoch 25/40\n",
      "9/9 [==============================] - 0s 10ms/step - loss: 0.2122 - accuracy: 0.9242 - val_loss: 1.1441 - val_accuracy: 0.6250\n",
      "Epoch 26/40\n",
      "9/9 [==============================] - 0s 10ms/step - loss: 0.1444 - accuracy: 0.9470 - val_loss: 1.1436 - val_accuracy: 0.6786\n",
      "Epoch 27/40\n",
      "9/9 [==============================] - 0s 11ms/step - loss: 0.0512 - accuracy: 0.9924 - val_loss: 1.1671 - val_accuracy: 0.6607\n",
      "Epoch 28/40\n",
      "9/9 [==============================] - 0s 12ms/step - loss: 0.0362 - accuracy: 0.9924 - val_loss: 1.3341 - val_accuracy: 0.6429\n",
      "Epoch 29/40\n",
      "9/9 [==============================] - 0s 12ms/step - loss: 0.0266 - accuracy: 1.0000 - val_loss: 1.3101 - val_accuracy: 0.6607\n",
      "Epoch 30/40\n",
      "9/9 [==============================] - 0s 13ms/step - loss: 0.0315 - accuracy: 0.9924 - val_loss: 1.3639 - val_accuracy: 0.6964\n",
      "Epoch 31/40\n",
      "9/9 [==============================] - 0s 11ms/step - loss: 0.0249 - accuracy: 0.9848 - val_loss: 1.4597 - val_accuracy: 0.6786\n",
      "Epoch 32/40\n",
      "9/9 [==============================] - 0s 11ms/step - loss: 0.0246 - accuracy: 0.9924 - val_loss: 1.3929 - val_accuracy: 0.6964\n",
      "Epoch 33/40\n",
      "9/9 [==============================] - 0s 12ms/step - loss: 0.0163 - accuracy: 0.9924 - val_loss: 1.4357 - val_accuracy: 0.6786\n",
      "Epoch 34/40\n",
      "9/9 [==============================] - 0s 11ms/step - loss: 0.0327 - accuracy: 0.9924 - val_loss: 1.7894 - val_accuracy: 0.6607\n",
      "Epoch 35/40\n",
      "9/9 [==============================] - 0s 11ms/step - loss: 0.0105 - accuracy: 1.0000 - val_loss: 1.6933 - val_accuracy: 0.6607\n",
      "Epoch 36/40\n",
      "9/9 [==============================] - 0s 11ms/step - loss: 0.0125 - accuracy: 1.0000 - val_loss: 1.6489 - val_accuracy: 0.6607\n",
      "Epoch 37/40\n",
      "9/9 [==============================] - 0s 12ms/step - loss: 0.0069 - accuracy: 1.0000 - val_loss: 1.6962 - val_accuracy: 0.6607\n",
      "Epoch 38/40\n",
      "9/9 [==============================] - 0s 13ms/step - loss: 0.0044 - accuracy: 1.0000 - val_loss: 1.7505 - val_accuracy: 0.6786\n",
      "Epoch 39/40\n",
      "9/9 [==============================] - 0s 13ms/step - loss: 0.0040 - accuracy: 1.0000 - val_loss: 1.7871 - val_accuracy: 0.6786\n",
      "Epoch 40/40\n",
      "9/9 [==============================] - 0s 12ms/step - loss: 0.0077 - accuracy: 1.0000 - val_loss: 1.8432 - val_accuracy: 0.6786\n"
     ]
    }
   ],
   "source": [
    "# Realizamos el entrenamiento con 40 epocas\n",
    "history = model.fit(X_train_indices, Y_train, epochs = 40, batch_size = 16, shuffle=True, validation_data=(X_test_indices, Y_test))"
   ]
  },
  {
   "cell_type": "markdown",
   "metadata": {},
   "source": [
    "## 8. Prueba y validación"
   ]
  },
  {
   "cell_type": "code",
   "execution_count": 42,
   "metadata": {},
   "outputs": [
    {
     "name": "stdout",
     "output_type": "stream",
     "text": [
      "2/2 [==============================] - 0s 4ms/step - loss: 1.8432 - accuracy: 0.6786\n",
      "\n",
      "Test accuracy =  0.6785714030265808\n"
     ]
    }
   ],
   "source": [
    "# Imprimimos el valor de loss y accuracy\n",
    "loss, acc = model.evaluate(X_test_indices, Y_test)\n",
    "print()\n",
    "print(\"Test accuracy = \", acc)"
   ]
  },
  {
   "cell_type": "markdown",
   "metadata": {},
   "source": [
    "### Ploteo"
   ]
  },
  {
   "cell_type": "code",
   "execution_count": 43,
   "metadata": {},
   "outputs": [
    {
     "data": {
      "text/plain": [
       "Text(0, 0.5, 'Accuracy')"
      ]
     },
     "execution_count": 43,
     "metadata": {},
     "output_type": "execute_result"
    },
    {
     "data": {
      "image/png": "[encoded data removed]",
      "text/plain": [
       "<Figure size 576x432 with 1 Axes>"
      ]
     },
     "metadata": {
      "needs_background": "light"
     },
     "output_type": "display_data"
    }
   ],
   "source": [
    "# Accuracy Curves\n",
    "plt.figure(figsize=[8,6])\n",
    "plt.plot(history.history['accuracy'],'blue',linewidth=3.0)\n",
    "plt.plot(history.history['val_accuracy'],'green',ls = '--',linewidth=3.0)\n",
    "plt.legend(['Training Accuracy', 'Validation Accuracy'],fontsize=18, \n",
    "           loc = 'lower right')\n",
    "plt.xlabel('Epochs ',fontsize=16)\n",
    "plt.ylabel('Accuracy',fontsize=16)"
   ]
  },
  {
   "cell_type": "markdown",
   "metadata": {},
   "source": [
    "### Predicción con los datos de prueba"
   ]
  },
  {
   "cell_type": "code",
   "execution_count": 44,
   "metadata": {},
   "outputs": [],
   "source": [
    "# creamos un arreglo con los labels de los datos de test\n",
    "Y_test_lbl = test[\"Label\"]\n",
    "# Convertimos los labels a vectores One hot\n",
    "Y_test_oh = pd.get_dummies(Y_test_lbl)\n",
    "# Convertimos las sentencias de test a indices\n",
    "X_test_indices = sentencias_a_indices(test[\"Text\"], word_to_index, maxLen)\n",
    "# Realizamos la Predicción \n",
    "pred = model.predict(X_test_indices)\n",
    "y_pred =[]      # Creamos el vector y_pred donde almacenaremos los valores de la predicción\n",
    "tabla_predict = []  # Creamos la tabla para mostrar los resultados\n",
    "for i in range(len(X_test)):\n",
    "    x = X_test_indices\n",
    "    num = np.argmax(pred[i]) # Convertimos  los datos de prediccion a los labels(1,2,3,4)\n",
    "    y_pred.append(np.argmax(pred[i])) # Añadimos los resultados al arreglo y_predic\n",
    "    tabla_predict.append([X_test[i],label_a_emoji(Y_test_lbl[i]),label_a_emoji(num).strip()])"
   ]
  },
  {
   "cell_type": "markdown",
   "metadata": {},
   "source": [
    "### Matriz de Confusión"
   ]
  },
  {
   "cell_type": "code",
   "execution_count": 45,
   "metadata": {},
   "outputs": [],
   "source": [
    "# Modulo para mostrar la matriz de confusión multiclass\n",
    "def matriz_confusion(y_actu, y_pred, title='Matriz de Confusión', cmap=plt.cm.Blues):\n",
    "    \n",
    "    df_confusion = pd.crosstab(y_actu, y_pred, rownames=['Actual'], colnames=['Predicted'])\n",
    "    \n",
    "    df_conf_norm = df_confusion / df_confusion.sum(axis=1)\n",
    "    \n",
    "    plt.matshow(df_confusion, cmap=cmap)  \n",
    "    plt.title(title)\n",
    "    plt.colorbar()\n",
    "    tick_marks = np.arange(len(df_confusion.columns))\n",
    "    plt.xticks(tick_marks, df_confusion.columns, rotation=45)\n",
    "    plt.yticks(tick_marks, df_confusion.index)\n",
    "    plt.ylabel(df_confusion.index.name)\n",
    "    plt.xlabel(df_confusion.columns.name)\n",
    "    "
   ]
  },
  {
   "cell_type": "code",
   "execution_count": 46,
   "metadata": {},
   "outputs": [],
   "source": [
    "# Transformamos los datos de la predicion y de test en arrays\n",
    "y_pred = np.array(y_pred)\n",
    "y_actu = np.array(Y_test_lbl)"
   ]
  },
  {
   "cell_type": "code",
   "execution_count": 47,
   "metadata": {},
   "outputs": [
    {
     "data": {
      "image/png": "[encoded data removed]",
      "text/plain": [
       "<Figure size 288x288 with 2 Axes>"
      ]
     },
     "metadata": {
      "needs_background": "light"
     },
     "output_type": "display_data"
    }
   ],
   "source": [
    "# Mostramos la matriz de confusión Multiclases\n",
    "matriz_confusion(y_actu,y_pred)"
   ]
  },
  {
   "cell_type": "code",
   "execution_count": 48,
   "metadata": {},
   "outputs": [
    {
     "name": "stdout",
     "output_type": "stream",
     "text": [
      "Texto                                  Label    Predicción\n",
      "-------------------------------------  -------  ------------\n",
      "I want to eat                          🍴       🍴\n",
      "he did not answer                      😞       😞\n",
      "he got a raise                         😄       😞\n",
      "she got me a present                   ❤️        😄\n",
      "ha ha ha it was so funny               😄       😄\n",
      "he is a good friend                    ❤️        😄\n",
      "I am upset                             ❤️        😞\n",
      "We had such a lovely dinner tonight    ❤️        😄\n",
      "where is the food                      🍴       🍴\n",
      "Stop making this joke ha ha ha         😄       😄\n",
      "where is the ball                      ⚾       ⚾\n",
      "work is hard                           😞       😄\n",
      "This girl is messing with me           😞       ❤️\n",
      "are you serious ha ha                  😄       ❤️\n",
      "Let us go play baseball                ⚾       ⚾\n",
      "This stupid grader is not working      😞       😞\n",
      "work is horrible                       😞       😄\n",
      "Congratulation for having a baby       😄       😄\n",
      "stop messing around                    😞       😞\n",
      "any suggestions for dinner             🍴       🍴\n",
      "I love taking breaks                   ❤️        ❤️\n",
      "you brighten my day                    😄       😄\n",
      "I boiled rice                          🍴       🍴\n",
      "she is a bully                         😞       😞\n",
      "Why are you feeling bad                😞       😞\n",
      "I am upset                             😞       😞\n",
      "I worked during my birthday            😞       😄\n",
      "My grandmother is the love of my life  ❤️        ❤️\n",
      "enjoy your break                       😄       ⚾\n",
      "valentine day is near                  ❤️        😄\n",
      "I miss you so much                     ❤️        ❤️\n",
      "throw the ball                         ⚾       ⚾\n",
      "My life is so boring                   😞       😞\n",
      "she said yes                           😄       😄\n",
      "will you be my valentine               ❤️        😄\n",
      "he can pitch really well               ⚾       ⚾\n",
      "dance with me                          😄       😄\n",
      "I am starving                          🍴       🍴\n",
      "See you at the restaurant              🍴       🍴\n",
      "I like to laugh                        😄       😄\n",
      "I will go dance                        😄       😄\n",
      "I like your jacket                     😄       ❤️\n",
      "i miss her                             ❤️        ❤️\n",
      "what is your favorite baseball game    ⚾       ⚾\n",
      "Good job                               😄       😄\n",
      "I love to the stars and back           ❤️        😄\n",
      "What you did was awesome               😄       😄\n",
      "ha ha ha lol                           😄       😄\n",
      "I want to joke                         😄       😞\n",
      "go away                                😞       ⚾\n",
      "yesterday we lost again                😞       😞\n",
      "family is all I have                   ❤️        ❤️\n",
      "you are failing this exercise          😞       😞\n",
      "Good joke                              😄       😄\n",
      "You totally deserve this prize         😄       😄\n",
      "I did not have breakfast               😞       🍴\n"
     ]
    }
   ],
   "source": [
    "print(tabulate(tabla_predict, headers=[\"Texto\", \"Label\", \"Predicción\"]))"
   ]
  }
 ],
 "metadata": {
  "kernelspec": {
   "display_name": "Python 3 (ipykernel)",
   "language": "python",
   "name": "python3"
  },
  "language_info": {
   "codemirror_mode": {
    "name": "ipython",
    "version": 3
   },
   "file_extension": ".py",
   "mimetype": "text/x-python",
   "name": "python",
   "nbconvert_exporter": "python",
   "pygments_lexer": "ipython3",
   "version": "3.9.5"
  }
 },
 "nbformat": 4,
 "nbformat_minor": 2
}
