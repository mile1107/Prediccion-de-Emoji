{
 "cells": [
  {
   "cell_type": "code",
   "execution_count": 10,
   "metadata": {},
   "outputs": [],
   "source": [
    "import numpy as np\n",
    "import pandas as pd"
   ]
  },
  {
   "cell_type": "code",
   "execution_count": 11,
   "metadata": {},
   "outputs": [],
   "source": [
    "train = pd.read_csv('DATOS_PROYECTO_4/train_emoji.csv',header=None)\n",
    "test = pd.read_csv('DATOS_PROYECTO_4/test_emoji.csv',header=None)"
   ]
  },
  {
   "cell_type": "code",
   "execution_count": 12,
   "metadata": {},
   "outputs": [
    {
     "data": {
      "text/html": [
       "<div>\n",
       "<style scoped>\n",
       "    .dataframe tbody tr th:only-of-type {\n",
       "        vertical-align: middle;\n",
       "    }\n",
       "\n",
       "    .dataframe tbody tr th {\n",
       "        vertical-align: top;\n",
       "    }\n",
       "\n",
       "    .dataframe thead th {\n",
       "        text-align: right;\n",
       "    }\n",
       "</style>\n",
       "<table border=\"1\" class=\"dataframe\">\n",
       "  <thead>\n",
       "    <tr style=\"text-align: right;\">\n",
       "      <th></th>\n",
       "      <th>0</th>\n",
       "      <th>1</th>\n",
       "      <th>2</th>\n",
       "      <th>3</th>\n",
       "    </tr>\n",
       "  </thead>\n",
       "  <tbody>\n",
       "    <tr>\n",
       "      <th>0</th>\n",
       "      <td>never talk to me again</td>\n",
       "      <td>3</td>\n",
       "      <td>NaN</td>\n",
       "      <td>NaN</td>\n",
       "    </tr>\n",
       "    <tr>\n",
       "      <th>1</th>\n",
       "      <td>I am proud of your achievements</td>\n",
       "      <td>2</td>\n",
       "      <td>NaN</td>\n",
       "      <td>NaN</td>\n",
       "    </tr>\n",
       "    <tr>\n",
       "      <th>2</th>\n",
       "      <td>It is the worst day in my life</td>\n",
       "      <td>3</td>\n",
       "      <td>NaN</td>\n",
       "      <td>NaN</td>\n",
       "    </tr>\n",
       "    <tr>\n",
       "      <th>3</th>\n",
       "      <td>Miss you so much</td>\n",
       "      <td>0</td>\n",
       "      <td>NaN</td>\n",
       "      <td>[0]</td>\n",
       "    </tr>\n",
       "    <tr>\n",
       "      <th>4</th>\n",
       "      <td>food is life</td>\n",
       "      <td>4</td>\n",
       "      <td>NaN</td>\n",
       "      <td>NaN</td>\n",
       "    </tr>\n",
       "  </tbody>\n",
       "</table>\n",
       "</div>"
      ],
      "text/plain": [
       "                                 0  1   2     3\n",
       "0           never talk to me again  3 NaN   NaN\n",
       "1  I am proud of your achievements  2 NaN   NaN\n",
       "2   It is the worst day in my life  3 NaN   NaN\n",
       "3                 Miss you so much  0 NaN   [0]\n",
       "4                     food is life  4 NaN   NaN"
      ]
     },
     "execution_count": 12,
     "metadata": {},
     "output_type": "execute_result"
    }
   ],
   "source": [
    "train.head()"
   ]
  },
  {
   "cell_type": "code",
   "execution_count": 13,
   "metadata": {},
   "outputs": [],
   "source": [
    "import emoji as emoji"
   ]
  },
  {
   "cell_type": "code",
   "execution_count": 14,
   "metadata": {},
   "outputs": [],
   "source": [
    "emoji_dictionary = {\"0\": \"\\u2764\\uFE0F\",    # :heart: prints a black instead of red heart depending on the font\n",
    "                    \"1\": \":baseball:\",\n",
    "                    \"2\": \":beaming_face_with_smiling_eyes:\",\n",
    "                    \"3\": \":downcast_face_with_sweat:\",\n",
    "                    \"4\": \":fork_and_knife:\",\n",
    "                   }"
   ]
  },
  {
   "cell_type": "code",
   "execution_count": 15,
   "metadata": {},
   "outputs": [
    {
     "data": {
      "text/plain": [
       "'🍴'"
      ]
     },
     "execution_count": 15,
     "metadata": {},
     "output_type": "execute_result"
    }
   ],
   "source": [
    "emoji.emojize(\":fork_and_knife:\")"
   ]
  },
  {
   "cell_type": "code",
   "execution_count": 16,
   "metadata": {},
   "outputs": [
    {
     "name": "stdout",
     "output_type": "stream",
     "text": [
      "❤️\n",
      "⚾\n",
      "😁\n",
      "😓\n",
      "🍴\n"
     ]
    }
   ],
   "source": [
    "for e in emoji_dictionary.values():\n",
    "    print(emoji.emojize(e))"
   ]
  },
  {
   "cell_type": "code",
   "execution_count": 17,
   "metadata": {},
   "outputs": [
    {
     "name": "stdout",
     "output_type": "stream",
     "text": [
      "never talk to me again 😓\n",
      "I am proud of your achievements 😁\n",
      "It is the worst day in my life 😓\n",
      "Miss you so much ❤️\n",
      "food is life 🍴\n",
      "I love you mum ❤️\n",
      "Stop saying bullshit 😓\n",
      "congratulations on your acceptance 😁\n",
      "The assignment is too long  😓\n",
      "I want to go play ⚾\n"
     ]
    }
   ],
   "source": [
    "data = train.values\n",
    "for i in range(10):\n",
    "    print(data[i][0],emoji.emojize(emoji_dictionary[str(data[i][1])]))"
   ]
  },
  {
   "cell_type": "code",
   "execution_count": 18,
   "metadata": {},
   "outputs": [],
   "source": [
    "from tensorflow.keras.utils import to_categorical"
   ]
  },
  {
   "cell_type": "code",
   "execution_count": 19,
   "metadata": {},
   "outputs": [
    {
     "name": "stdout",
     "output_type": "stream",
     "text": [
      "(132,)\n",
      "(56,)\n",
      "(132, 5)\n",
      "(56, 5)\n"
     ]
    }
   ],
   "source": [
    "XT = train[0]\n",
    "Xt = test[0]\n",
    "\n",
    "YT = to_categorical(train[1])\n",
    "Yt = to_categorical(test[1])\n",
    "\n",
    "\n",
    "print(XT.shape)\n",
    "print(Xt.shape)\n",
    "print(YT.shape)\n",
    "print(Yt.shape)"
   ]
  },
  {
   "cell_type": "code",
   "execution_count": 20,
   "metadata": {},
   "outputs": [],
   "source": [
    "embeddings = {}\n",
    "with open('Glove_Embeddings/glove.6B.50d.txt',encoding='utf-8') as f:\n",
    "    for line in f:\n",
    "        values = line.split()\n",
    "        word = values[0]\n",
    "        coeffs = np.asarray(values[1:],dtype='float32')\n",
    "        \n",
    "        #print(word)\n",
    "        #print(coeffs)\n",
    "        embeddings[word] = coeffs"
   ]
  },
  {
   "cell_type": "code",
   "execution_count": 21,
   "metadata": {},
   "outputs": [],
   "source": [
    "def getOutputEmbeddings(X):\n",
    "    \n",
    "    embedding_matrix_output = np.zeros((X.shape[0],10,50))\n",
    "    for ix in range(X.shape[0]):\n",
    "        X[ix] = X[ix].split()\n",
    "        for jx in range(len(X[ix])):\n",
    "            embedding_matrix_output[ix][jx] = embeddings[X[ix][jx].lower()]\n",
    "            \n",
    "    return embedding_matrix_output"
   ]
  },
  {
   "cell_type": "code",
   "execution_count": 22,
   "metadata": {},
   "outputs": [
    {
     "data": {
      "text/plain": [
       "'I am proud of your achievements'"
      ]
     },
     "execution_count": 22,
     "metadata": {},
     "output_type": "execute_result"
    }
   ],
   "source": [
    "XT[1]"
   ]
  },
  {
   "cell_type": "code",
   "execution_count": 23,
   "metadata": {},
   "outputs": [
    {
     "name": "stderr",
     "output_type": "stream",
     "text": [
      "C:\\Users\\USER\\AppData\\Local\\Temp/ipykernel_3816/2176504226.py:5: SettingWithCopyWarning: \n",
      "A value is trying to be set on a copy of a slice from a DataFrame\n",
      "\n",
      "See the caveats in the documentation: https://pandas.pydata.org/pandas-docs/stable/user_guide/indexing.html#returning-a-view-versus-a-copy\n",
      "  X[ix] = X[ix].split()\n"
     ]
    }
   ],
   "source": [
    "emb_XT = getOutputEmbeddings(XT)\n",
    "emb_Xt = getOutputEmbeddings(Xt)"
   ]
  },
  {
   "cell_type": "code",
   "execution_count": 24,
   "metadata": {},
   "outputs": [
    {
     "name": "stdout",
     "output_type": "stream",
     "text": [
      "(132, 10, 50)\n",
      "(56, 10, 50)\n"
     ]
    }
   ],
   "source": [
    "print(emb_XT.shape)\n",
    "print(emb_Xt.shape)\n"
   ]
  },
  {
   "cell_type": "code",
   "execution_count": 25,
   "metadata": {},
   "outputs": [],
   "source": [
    "from keras.layers import LSTM, Dropout, Dense, Activation\n",
    "from keras.models import Sequential"
   ]
  },
  {
   "cell_type": "code",
   "execution_count": 26,
   "metadata": {},
   "outputs": [
    {
     "name": "stdout",
     "output_type": "stream",
     "text": [
      "Model: \"sequential\"\n",
      "_________________________________________________________________\n",
      "Layer (type)                 Output Shape              Param #   \n",
      "=================================================================\n",
      "lstm (LSTM)                  (None, 10, 64)            29440     \n",
      "_________________________________________________________________\n",
      "dropout (Dropout)            (None, 10, 64)            0         \n",
      "_________________________________________________________________\n",
      "lstm_1 (LSTM)                (None, 64)                33024     \n",
      "_________________________________________________________________\n",
      "dropout_1 (Dropout)          (None, 64)                0         \n",
      "_________________________________________________________________\n",
      "dense (Dense)                (None, 5)                 325       \n",
      "_________________________________________________________________\n",
      "activation (Activation)      (None, 5)                 0         \n",
      "=================================================================\n",
      "Total params: 62,789\n",
      "Trainable params: 62,789\n",
      "Non-trainable params: 0\n",
      "_________________________________________________________________\n"
     ]
    }
   ],
   "source": [
    "model = Sequential()\n",
    "model.add(LSTM(64,input_shape=(10,50),return_sequences=True))\n",
    "model.add(Dropout(0.4))\n",
    "model.add(LSTM(64,input_shape=(10,50)))\n",
    "model.add(Dropout(0.3))\n",
    "model.add(Dense(5))\n",
    "model.add(Activation('softmax'))\n",
    "model.summary()"
   ]
  },
  {
   "cell_type": "code",
   "execution_count": 27,
   "metadata": {},
   "outputs": [
    {
     "name": "stdout",
     "output_type": "stream",
     "text": [
      "Epoch 1/40\n",
      "4/4 [==============================] - 3s 190ms/step - loss: 1.6132 - acc: 0.2288 - val_loss: 1.6026 - val_acc: 0.2143\n",
      "Epoch 2/40\n",
      "4/4 [==============================] - 0s 17ms/step - loss: 1.5546 - acc: 0.3475 - val_loss: 1.6030 - val_acc: 0.2857\n",
      "Epoch 3/40\n",
      "4/4 [==============================] - 0s 17ms/step - loss: 1.4916 - acc: 0.4068 - val_loss: 1.6150 - val_acc: 0.2857\n",
      "Epoch 4/40\n",
      "4/4 [==============================] - 0s 16ms/step - loss: 1.4620 - acc: 0.4237 - val_loss: 1.6181 - val_acc: 0.3571\n",
      "Epoch 5/40\n",
      "4/4 [==============================] - 0s 15ms/step - loss: 1.4267 - acc: 0.4153 - val_loss: 1.5772 - val_acc: 0.2857\n",
      "Epoch 6/40\n",
      "4/4 [==============================] - 0s 16ms/step - loss: 1.4029 - acc: 0.3898 - val_loss: 1.5247 - val_acc: 0.1429\n",
      "Epoch 7/40\n",
      "4/4 [==============================] - 0s 15ms/step - loss: 1.2956 - acc: 0.5424 - val_loss: 1.4180 - val_acc: 0.2143\n",
      "Epoch 8/40\n",
      "4/4 [==============================] - 0s 16ms/step - loss: 1.2358 - acc: 0.5508 - val_loss: 1.3008 - val_acc: 0.5000\n",
      "Epoch 9/40\n",
      "4/4 [==============================] - 0s 16ms/step - loss: 1.1152 - acc: 0.5932 - val_loss: 1.2035 - val_acc: 0.5714\n",
      "Epoch 10/40\n",
      "4/4 [==============================] - 0s 15ms/step - loss: 1.0249 - acc: 0.6271 - val_loss: 1.0643 - val_acc: 0.6429\n",
      "Epoch 11/40\n",
      "4/4 [==============================] - 0s 16ms/step - loss: 0.9195 - acc: 0.6356 - val_loss: 1.1888 - val_acc: 0.4286\n",
      "Epoch 12/40\n",
      "4/4 [==============================] - 0s 13ms/step - loss: 0.7935 - acc: 0.7797 - val_loss: 0.9378 - val_acc: 0.6429\n",
      "Epoch 13/40\n",
      "4/4 [==============================] - 0s 16ms/step - loss: 0.7459 - acc: 0.7542 - val_loss: 0.8755 - val_acc: 0.7143\n",
      "Epoch 14/40\n",
      "4/4 [==============================] - 0s 14ms/step - loss: 0.6275 - acc: 0.7881 - val_loss: 1.0930 - val_acc: 0.6429\n",
      "Epoch 15/40\n",
      "4/4 [==============================] - 0s 16ms/step - loss: 0.5535 - acc: 0.8220 - val_loss: 1.0278 - val_acc: 0.6429\n",
      "Epoch 16/40\n",
      "4/4 [==============================] - 0s 17ms/step - loss: 0.4803 - acc: 0.8305 - val_loss: 0.8779 - val_acc: 0.6429\n",
      "Epoch 17/40\n",
      "4/4 [==============================] - 0s 15ms/step - loss: 0.4341 - acc: 0.8729 - val_loss: 1.1148 - val_acc: 0.5714\n",
      "Epoch 18/40\n",
      "4/4 [==============================] - 0s 16ms/step - loss: 0.4901 - acc: 0.8475 - val_loss: 0.7186 - val_acc: 0.6429\n",
      "Epoch 19/40\n",
      "4/4 [==============================] - 0s 15ms/step - loss: 0.4144 - acc: 0.8814 - val_loss: 1.1700 - val_acc: 0.5000\n",
      "Epoch 20/40\n",
      "4/4 [==============================] - 0s 16ms/step - loss: 0.3447 - acc: 0.8983 - val_loss: 1.0228 - val_acc: 0.5714\n",
      "Epoch 21/40\n",
      "4/4 [==============================] - 0s 15ms/step - loss: 0.2686 - acc: 0.9153 - val_loss: 1.0503 - val_acc: 0.5714\n",
      "Epoch 22/40\n",
      "4/4 [==============================] - 0s 15ms/step - loss: 0.2743 - acc: 0.9153 - val_loss: 0.6949 - val_acc: 0.6429\n",
      "Epoch 23/40\n",
      "4/4 [==============================] - 0s 16ms/step - loss: 0.3039 - acc: 0.9153 - val_loss: 1.1837 - val_acc: 0.5000\n",
      "Epoch 24/40\n",
      "4/4 [==============================] - 0s 15ms/step - loss: 0.2892 - acc: 0.8983 - val_loss: 0.9033 - val_acc: 0.7143\n",
      "Epoch 25/40\n",
      "4/4 [==============================] - 0s 16ms/step - loss: 0.2447 - acc: 0.9322 - val_loss: 1.3827 - val_acc: 0.5000\n",
      "Epoch 26/40\n",
      "4/4 [==============================] - 0s 15ms/step - loss: 0.2512 - acc: 0.9237 - val_loss: 0.7751 - val_acc: 0.5714\n",
      "Epoch 27/40\n",
      "4/4 [==============================] - 0s 15ms/step - loss: 0.1986 - acc: 0.9153 - val_loss: 1.1309 - val_acc: 0.5000\n",
      "Epoch 28/40\n",
      "4/4 [==============================] - 0s 16ms/step - loss: 0.1781 - acc: 0.9407 - val_loss: 1.1582 - val_acc: 0.5714\n",
      "Epoch 29/40\n",
      "4/4 [==============================] - 0s 17ms/step - loss: 0.1558 - acc: 0.9576 - val_loss: 0.8991 - val_acc: 0.6429\n",
      "Epoch 30/40\n",
      "4/4 [==============================] - 0s 15ms/step - loss: 0.1302 - acc: 0.9746 - val_loss: 0.7701 - val_acc: 0.6429\n",
      "Epoch 31/40\n",
      "4/4 [==============================] - 0s 14ms/step - loss: 0.1595 - acc: 0.9492 - val_loss: 0.7692 - val_acc: 0.6429\n",
      "Epoch 32/40\n",
      "4/4 [==============================] - 0s 16ms/step - loss: 0.1772 - acc: 0.9576 - val_loss: 1.3138 - val_acc: 0.5714\n",
      "Epoch 33/40\n",
      "4/4 [==============================] - 0s 14ms/step - loss: 0.1421 - acc: 0.9746 - val_loss: 0.7431 - val_acc: 0.6429\n",
      "Epoch 34/40\n",
      "4/4 [==============================] - 0s 15ms/step - loss: 0.1242 - acc: 0.9746 - val_loss: 1.0287 - val_acc: 0.7143\n",
      "Epoch 35/40\n",
      "4/4 [==============================] - 0s 15ms/step - loss: 0.0899 - acc: 0.9746 - val_loss: 0.9384 - val_acc: 0.7143\n",
      "Epoch 36/40\n",
      "4/4 [==============================] - 0s 15ms/step - loss: 0.1291 - acc: 0.9661 - val_loss: 0.6239 - val_acc: 0.7143\n",
      "Epoch 37/40\n",
      "4/4 [==============================] - 0s 15ms/step - loss: 0.1429 - acc: 0.9492 - val_loss: 1.4254 - val_acc: 0.5714\n",
      "Epoch 38/40\n",
      "4/4 [==============================] - 0s 15ms/step - loss: 0.1436 - acc: 0.9492 - val_loss: 0.6968 - val_acc: 0.6429\n",
      "Epoch 39/40\n",
      "4/4 [==============================] - 0s 15ms/step - loss: 0.0852 - acc: 0.9661 - val_loss: 1.0429 - val_acc: 0.7143\n",
      "Epoch 40/40\n",
      "4/4 [==============================] - 0s 15ms/step - loss: 0.1069 - acc: 0.9831 - val_loss: 0.9174 - val_acc: 0.7143\n"
     ]
    },
    {
     "data": {
      "text/plain": [
       "<keras.callbacks.History at 0x217989601c0>"
      ]
     },
     "execution_count": 27,
     "metadata": {},
     "output_type": "execute_result"
    }
   ],
   "source": [
    "model.compile(optimizer='adam',loss='categorical_crossentropy',metrics=['acc'])\n",
    "model.fit(emb_XT,YT,batch_size=32,epochs=40,shuffle=True,validation_split=0.1)"
   ]
  },
  {
   "cell_type": "code",
   "execution_count": 28,
   "metadata": {},
   "outputs": [
    {
     "name": "stdout",
     "output_type": "stream",
     "text": [
      "2/2 [==============================] - 0s 3ms/step - loss: 1.5921 - acc: 0.5893\n"
     ]
    },
    {
     "data": {
      "text/plain": [
       "[1.592056155204773, 0.5892857313156128]"
      ]
     },
     "execution_count": 28,
     "metadata": {},
     "output_type": "execute_result"
    }
   ],
   "source": [
    "model.evaluate(emb_Xt,Yt)"
   ]
  },
  {
   "cell_type": "code",
   "execution_count": 29,
   "metadata": {},
   "outputs": [
    {
     "ename": "AttributeError",
     "evalue": "'Sequential' object has no attribute 'predict_classes'",
     "output_type": "error",
     "traceback": [
      "\u001b[1;31m---------------------------------------------------------------------------\u001b[0m",
      "\u001b[1;31mAttributeError\u001b[0m                            Traceback (most recent call last)",
      "\u001b[1;32m~\\AppData\\Local\\Temp/ipykernel_3816/2815921474.py\u001b[0m in \u001b[0;36m<module>\u001b[1;34m\u001b[0m\n\u001b[1;32m----> 1\u001b[1;33m \u001b[0mpred\u001b[0m \u001b[1;33m=\u001b[0m \u001b[0mmodel\u001b[0m\u001b[1;33m.\u001b[0m\u001b[0mpredict_classes\u001b[0m\u001b[1;33m(\u001b[0m\u001b[0memb_Xt\u001b[0m\u001b[1;33m)\u001b[0m\u001b[1;33m\u001b[0m\u001b[1;33m\u001b[0m\u001b[0m\n\u001b[0m",
      "\u001b[1;31mAttributeError\u001b[0m: 'Sequential' object has no attribute 'predict_classes'"
     ]
    }
   ],
   "source": [
    "pred = model.predict_classes(emb_Xt)"
   ]
  },
  {
   "cell_type": "code",
   "execution_count": null,
   "metadata": {},
   "outputs": [
    {
     "name": "stdout",
     "output_type": "stream",
     "text": [
      "I want to eat\n",
      "🍴\n",
      "🍴\n",
      "he did not answer\n",
      "😓\n",
      "😓\n",
      "he got a raise\n",
      "😁\n",
      "😁\n",
      "she got me a present\n",
      "❤️\n",
      "😁\n",
      "ha ha ha it was so funny\n",
      "😁\n",
      "😁\n",
      "he is a good friend\n",
      "❤️\n",
      "😁\n",
      "I am upset\n",
      "❤️\n",
      "⚾\n",
      "We had such a lovely dinner tonight\n",
      "❤️\n",
      "😁\n",
      "where is the food\n",
      "🍴\n",
      "🍴\n",
      "Stop making this joke ha ha ha\n",
      "😁\n",
      "😁\n",
      "where is the ball\n",
      "⚾\n",
      "⚾\n",
      "work is hard\n",
      "😓\n",
      "😁\n",
      "This girl is messing with me\n",
      "😓\n",
      "❤️\n",
      "are you serious ha ha\n",
      "😁\n",
      "😓\n",
      "Let us go play baseball\n",
      "⚾\n",
      "⚾\n",
      "This stupid grader is not working\n",
      "😓\n",
      "😓\n",
      "work is horrible\n",
      "😓\n",
      "😓\n",
      "Congratulation for having a baby\n",
      "😁\n",
      "😁\n",
      "stop messing around\n",
      "😓\n",
      "😓\n",
      "any suggestions for dinner\n",
      "🍴\n",
      "🍴\n",
      "I love taking breaks\n",
      "❤️\n",
      "❤️\n",
      "you brighten my day\n",
      "😁\n",
      "❤️\n",
      "I boiled rice\n",
      "🍴\n",
      "🍴\n",
      "she is a bully\n",
      "😓\n",
      "😁\n",
      "Why are you feeling bad\n",
      "😓\n",
      "😓\n",
      "I am upset\n",
      "😓\n",
      "⚾\n",
      "I worked during my birthday\n",
      "😓\n",
      "😁\n",
      "My grandmother is the love of my life\n",
      "❤️\n",
      "❤️\n",
      "enjoy your break\n",
      "😁\n",
      "⚾\n",
      "valentine day is near\n",
      "❤️\n",
      "😁\n"
     ]
    }
   ],
   "source": [
    "for i in range(30):\n",
    "    print(' '.join(Xt[i]))\n",
    "    print(emoji.emojize(emoji_dictionary[str(np.argmax(Yt[i]))]))\n",
    "    print(emoji.emojize(emoji_dictionary[str(pred[i])]))"
   ]
  },
  {
   "cell_type": "code",
   "execution_count": null,
   "metadata": {},
   "outputs": [],
   "source": [
    "with open(\"model.json\", \"w\") as file:\n",
    "    file.write(model.to_json())\n",
    "model.save_weights(\"model.h5\")"
   ]
  },
  {
   "cell_type": "markdown",
   "metadata": {},
   "source": [
    "### Code to be written in Django."
   ]
  },
  {
   "cell_type": "code",
   "execution_count": null,
   "metadata": {},
   "outputs": [],
   "source": [
    "from keras.models import model_from_json"
   ]
  },
  {
   "cell_type": "code",
   "execution_count": null,
   "metadata": {},
   "outputs": [],
   "source": [
    "with open(\"model.json\", \"r\") as file:\n",
    "    model = model_from_json(file.read())\n",
    "model.load_weights(\"model.h5\")"
   ]
  },
  {
   "cell_type": "code",
   "execution_count": null,
   "metadata": {},
   "outputs": [],
   "source": [
    "test_str = \"Hello how are you\"\n",
    "X = pd.Series([test_str])"
   ]
  },
  {
   "cell_type": "code",
   "execution_count": null,
   "metadata": {},
   "outputs": [],
   "source": [
    "emb_X = getOutputEmbeddings(X)"
   ]
  },
  {
   "cell_type": "code",
   "execution_count": null,
   "metadata": {},
   "outputs": [],
   "source": [
    "p = model.predict_classes(emb_X)"
   ]
  },
  {
   "cell_type": "code",
   "execution_count": null,
   "metadata": {},
   "outputs": [
    {
     "name": "stdout",
     "output_type": "stream",
     "text": [
      "Hello how are you\n",
      "😁\n"
     ]
    }
   ],
   "source": [
    "print(' '.join(X[0]))\n",
    "print(emoji.emojize(emoji_dictionary[str(p[0])]))"
   ]
  },
  {
   "cell_type": "code",
   "execution_count": null,
   "metadata": {},
   "outputs": [],
   "source": []
  },
  {
   "cell_type": "code",
   "execution_count": null,
   "metadata": {},
   "outputs": [],
   "source": []
  },
  {
   "cell_type": "code",
   "execution_count": null,
   "metadata": {},
   "outputs": [],
   "source": []
  },
  {
   "cell_type": "code",
   "execution_count": null,
   "metadata": {},
   "outputs": [],
   "source": []
  }
 ],
 "metadata": {
  "kernelspec": {
   "display_name": "Python 3",
   "language": "python",
   "name": "python3"
  },
  "language_info": {
   "codemirror_mode": {
    "name": "ipython",
    "version": 3
   },
   "file_extension": ".py",
   "mimetype": "text/x-python",
   "name": "python",
   "nbconvert_exporter": "python",
   "pygments_lexer": "ipython3",
   "version": "3.9.5"
  }
 },
 "nbformat": 4,
 "nbformat_minor": 2
}
